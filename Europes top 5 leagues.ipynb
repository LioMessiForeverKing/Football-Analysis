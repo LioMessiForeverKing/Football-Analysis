{
 "cells": [
  {
   "cell_type": "markdown",
   "metadata": {},
   "source": [
    "# Analyzing Europe's Top-5 Soccer Leagues."
   ]
  },
  {
   "cell_type": "code",
   "execution_count": 1,
   "metadata": {},
   "outputs": [],
   "source": [
    "import pandas\n",
    "import numpy\n",
    "from matplotlib import pyplot\n",
    "from sklearn.linear_model import LinearRegression\n",
    "import re"
   ]
  },
  {
   "cell_type": "code",
   "execution_count": 2,
   "metadata": {},
   "outputs": [],
   "source": [
    "data = pandas.read_csv('main.csv')"
   ]
  },
  {
   "cell_type": "markdown",
   "metadata": {},
   "source": [
    "## 1: Descriptive Stats\n",
    "First I obtained the descriptive statistics to calculate some differences between the top five leagues in Europe. My aim is to see if I can observe some differences withtin the league such as difficulty (competitiveness) and to see if there are obvious patterns within each league"
   ]
  },
  {
   "cell_type": "markdown",
   "metadata": {},
   "source": [
    "### A. Create a class\n",
    "first created a class and each Instance of the class would be a league. Each league object would have attributes to describe the performance of its teams using descriptive statistics. "
   ]
  },
  {
   "cell_type": "code",
   "execution_count": 3,
   "metadata": {},
   "outputs": [],
   "source": [
    "class League():\n",
    "    \"\"\"\n",
    "    An instance of this class represents a League\n",
    "    Each league would have variables called\n",
    "    Wins: The wins to teams in the league\n",
    "    Loses: The loses of the teams in the league\n",
    "    Draws:The draws from teams of teams in the league\n",
    "    Goals scored: The goals scored by teams in the leagued\n",
    "    Goals against: The goals conceded by teams in the leagued\n",
    "    Points:The points earend by the team in the league based on the legue(determins a teams rank) \n",
    "\n",
    "    These variables would be lists that contain the mean, median and standard deviation for the teams in that league.\n",
    "    \"\"\"\n",
    "\n",
    "    def __init__(self, league, wins,loses,draws, gs, ga, pts):\n",
    "        self.league = league\n",
    "        self.wins = wins\n",
    "        self.loses = loses\n",
    "        self.draws =draws\n",
    "        self.goals_scored= gs\n",
    "        self.goals_against= ga\n",
    "        self.points=pts\n",
    "    \n",
    "    def __str__(self):\n",
    "        print('League: '+self.league)\n",
    "        print(self.wins)\n",
    "        print(self.loses)\n",
    "        print(self.draws)\n",
    "        print(self.goals_scored)\n",
    "        print(self.goals_against)\n",
    "        print(self.points)\n",
    "        return ''"
   ]
  },
  {
   "cell_type": "markdown",
   "metadata": {},
   "source": [
    "### B. Create league objects\n",
    "I created league objects for each league and each league would have desriptive stats for each catergorgy that displays performance in the league. I obtained values from the data, calculate them, and pass them in as arguments to create the object. For each category of performance, the mean, median, and standard deviation is calculated."
   ]
  },
  {
   "cell_type": "code",
   "execution_count": 4,
   "metadata": {},
   "outputs": [],
   "source": [
    "EPLdata = data.loc[data['League'] == 'EPL']\n",
    "EPL_wins= 'Wins -->  ' + 'Mean: '+ str(numpy.mean(EPLdata.Wins)) + ', Median: '+ str(numpy.median(EPLdata.Wins)) + ', Standard deviation: ' + str (numpy.std(EPLdata.Wins))\n",
    "EPL_loses= 'Loses -->  ' + 'Mean: '+ str(numpy.mean(EPLdata.Loses)) + ', Median: '+ str(numpy.median(EPLdata.Loses)) + ', Standard deviation: ' + str (numpy.std(EPLdata.Loses))\n",
    "EPL_draws= 'Draws -->  ' + 'Mean: '+ str(numpy.mean(EPLdata.Draws)) + ', Median: '+ str(numpy.median(EPLdata.Draws)) + ', Standard deviation: ' + str (numpy.std(EPLdata.Draws))\n",
    "EPL_gs=  'Goals scored -->  ' + 'Mean: '+ str(numpy.mean(EPLdata.Goals_scored)) + ', Median: '+ str(numpy.median(EPLdata.Goals_scored)) + ', Standard deviation: ' + str (numpy.std(EPLdata.Goals_scored))\n",
    "EPL_ga= 'Goals against -->  ' + 'Mean: '+ str(numpy.mean(EPLdata.Goals_against)) + ', Median: '+ str(numpy.median(EPLdata.Goals_against)) + ', Standard deviation: ' + str (numpy.std(EPLdata.Goals_against))\n",
    "EPL_points= 'Points -->  ' + 'Mean: '+ str(numpy.mean(EPLdata.Points)) + ', Median: '+ str(numpy.median(EPLdata.Points)) + ', Standard deviation: ' + str (numpy.std(EPLdata.Points))\n",
    "\n",
    "EPL= League('EPL', EPL_wins, EPL_loses, EPL_draws, EPL_gs, EPL_ga, EPL_points)\n",
    "\n"
   ]
  },
  {
   "cell_type": "code",
   "execution_count": 5,
   "metadata": {},
   "outputs": [],
   "source": [
    "Laligadata = data.loc[data['League'] == 'La liga']\n",
    "Laliga_wins= 'Wins -->  ' + 'Mean: '+ str(numpy.mean(Laligadata.Wins)) + ', Median: '+ str(numpy.median(Laligadata.Wins)) + ', Standard deviation: ' + str (numpy.std(Laligadata.Wins))\n",
    "Laliga_loses= 'Loses -->  ' + 'Mean: '+ str(numpy.mean(Laligadata.Loses)) + ', Median: '+ str(numpy.median(Laligadata.Loses)) + ', Standard deviation: ' + str (numpy.std(Laligadata.Loses))\n",
    "Laliga_draws= 'Draws -->  ' + 'Mean: '+ str(numpy.mean(Laligadata.Draws)) + ', Median: '+ str(numpy.median(Laligadata.Draws)) + ', Standard deviation: ' + str (numpy.std(Laligadata.Draws))\n",
    "Laliga_gs=  'Goals scored -->  ' + 'Mean: '+ str(numpy.mean(Laligadata.Goals_scored)) + ', Median: '+ str(numpy.median(Laligadata.Goals_scored)) + ', Standard deviation: ' + str (numpy.std(Laligadata.Goals_scored))\n",
    "Laliga_ga= 'Goals against -->  ' + 'Mean: '+ str(numpy.mean(Laligadata.Goals_against)) + ', Median: '+ str(numpy.median(Laligadata.Goals_against)) + ', Standard deviation: ' + str (numpy.std(Laligadata.Goals_against))\n",
    "Laliga_points= 'Points -->  ' + 'Mean: '+ str(numpy.mean(Laligadata.Points)) + ', Median: '+ str(numpy.median(Laligadata.Points)) + ', Standard deviation: ' + str (numpy.std(Laligadata.Points))\n",
    "\n",
    "La_liga= League('La liga', Laliga_wins, Laliga_loses, Laliga_draws, Laliga_gs, Laliga_ga, Laliga_points)\n",
    "\n"
   ]
  },
  {
   "cell_type": "code",
   "execution_count": 6,
   "metadata": {},
   "outputs": [],
   "source": [
    "Bundesligadata = data.loc[data['League'] == 'Bundesliga']\n",
    "Bundesliga_wins= 'Wins -->  ' + 'Mean: '+ str(numpy.mean(Bundesligadata.Wins)) + ', Median: '+ str(numpy.median(Bundesligadata.Wins)) + ', Standard deviation: ' + str (numpy.std(Bundesligadata.Wins))\n",
    "Bundesliga_loses= 'Loses -->  ' + 'Mean: '+ str(numpy.mean(Bundesligadata.Loses)) + ', Median: '+ str(numpy.median(Bundesligadata.Loses)) + ', Standard deviation: ' + str (numpy.std(Bundesligadata.Loses))\n",
    "Bundesliga_draws= 'Draws -->  ' + 'Mean: '+ str(numpy.mean(Bundesligadata.Draws)) + ', Median: '+ str(numpy.median(Bundesligadata.Draws)) + ', Standard deviation: ' + str (numpy.std(Bundesligadata.Draws))\n",
    "Bundesliga_gs=  'Goals scored -->  ' + 'Mean: '+ str(numpy.mean(Bundesligadata.Goals_scored)) + ', Median: '+ str(numpy.median(Bundesligadata.Goals_scored)) + ', Standard deviation: ' + str (numpy.std(Bundesligadata.Goals_scored))\n",
    "Bundesliga_ga= 'Goals against -->  ' + 'Mean: '+ str(numpy.mean(Bundesligadata.Goals_against)) + ', Median: '+ str(numpy.median(Bundesligadata.Goals_against)) + ', Standard deviation: ' + str (numpy.std(Bundesligadata.Goals_against))\n",
    "Bundesliga_points= 'Points -->  ' + 'Mean: '+ str(numpy.mean(Bundesligadata.Points)) + ', Median: '+ str(numpy.median(Bundesligadata.Points)) + ', Standard deviation: ' + str (numpy.std(Bundesligadata.Points))\n",
    "\n",
    "Bundesliga= League('Bundesliga', Bundesliga_wins, Bundesliga_loses, Bundesliga_draws, Bundesliga_gs, Bundesliga_ga, Bundesliga_points)\n"
   ]
  },
  {
   "cell_type": "code",
   "execution_count": 7,
   "metadata": {},
   "outputs": [],
   "source": [
    "Seriedata = data.loc[data['League'] == 'Serie A']\n",
    "Serie_wins= 'Wins -->  ' + 'Mean: '+ str(numpy.mean(Seriedata.Wins)) + ', Median: '+ str(numpy.median(Seriedata.Wins)) + ', Standard deviation: ' + str (numpy.std(Seriedata.Wins))\n",
    "Serie_loses= 'Loses -->  ' + 'Mean: '+ str(numpy.mean(Seriedata.Loses)) + ', Median: '+ str(numpy.median(Seriedata.Loses)) + ', Standard deviation: ' + str (numpy.std(Seriedata.Loses))\n",
    "Serie_draws= 'Draws -->  ' + 'Mean: '+ str(numpy.mean(Seriedata.Draws)) + ', Median: '+ str(numpy.median(Seriedata.Draws)) + ', Standard deviation: ' + str (numpy.std(Seriedata.Draws))\n",
    "Serie_gs=  'Goals scored -->  ' + 'Mean: '+ str(numpy.mean(Seriedata.Goals_scored)) + ', Median: '+ str(numpy.median(Seriedata.Goals_scored)) + ', Standard deviation: ' + str (numpy.std(Seriedata.Goals_scored))\n",
    "Serie_ga= 'Goals against -->  ' + 'Mean: '+ str(numpy.mean(Seriedata.Goals_against)) + ', Median: '+ str(numpy.median(Seriedata.Goals_against)) + ', Standard deviation: ' + str (numpy.std(Seriedata.Goals_against))\n",
    "Serie_points= 'Points -->  ' + 'Mean: '+ str(numpy.mean(Seriedata.Points)) + ', Median: '+ str(numpy.median(Seriedata.Points)) + ', Standard deviation: ' + str (numpy.std(Seriedata.Points))\n",
    "\n",
    "Serie_A= League('Serie A', Serie_wins, Serie_loses, Serie_draws, Serie_gs, Serie_ga, Serie_points)\n"
   ]
  },
  {
   "cell_type": "code",
   "execution_count": 8,
   "metadata": {},
   "outputs": [],
   "source": [
    "Seriedata = data.loc[data['League'] == 'Serie A']\n",
    "Serie_wins= 'Wins -->  ' + 'Mean: '+ str(numpy.mean(Seriedata.Wins)) + ', Median: '+ str(numpy.median(Seriedata.Wins)) + ', Standard deviation: ' + str (numpy.std(Seriedata.Wins))\n",
    "Serie_loses= 'Loses -->  ' + 'Mean: '+ str(numpy.mean(Seriedata.Loses)) + ', Median: '+ str(numpy.median(Seriedata.Loses)) + ', Standard deviation: ' + str (numpy.std(Seriedata.Loses))\n",
    "Serie_draws= 'Draws -->  ' + 'Mean: '+ str(numpy.mean(Seriedata.Draws)) + ', Median: '+ str(numpy.median(Seriedata.Draws)) + ', Standard deviation: ' + str (numpy.std(Seriedata.Draws))\n",
    "Serie_gs= 'Goals scored -->  ' + 'Mean: '+ str(numpy.mean(Seriedata.Goals_scored)) + ', Median: '+ str(numpy.median(Seriedata.Goals_scored)) + ', Standard deviation: ' + str (numpy.std(Seriedata.Goals_scored))\n",
    "Serie_ga='Goals against -->  ' + 'Mean: '+ str(numpy.mean(Seriedata.Goals_against)) + ', Median: '+ str(numpy.median(Seriedata.Goals_against)) + ', Standard deviation: ' + str (numpy.std(Seriedata.Goals_against))\n",
    "Serie_points= 'Points -->  ' + 'Mean: '+ str(numpy.mean(Seriedata.Points)) + ', Median: '+ str(numpy.median(Seriedata.Points)) + ', Standard deviation: ' + str (numpy.std(Seriedata.Points))\n",
    "\n",
    "Serie_A= League('Serie A', Serie_wins, Serie_loses, Serie_draws, Serie_gs, Serie_ga, Serie_points)\n"
   ]
  },
  {
   "cell_type": "code",
   "execution_count": 9,
   "metadata": {},
   "outputs": [],
   "source": [
    "Ligue1data= data.loc[data['League'] == 'Ligue 1']\n",
    "Ligue1_wins= 'Wins -->  ' + 'Mean: '+ str(numpy.mean(Ligue1data.Wins)) + ', Median: '+ str(numpy.median(Ligue1data.Wins)) + ', Standard deviation: ' + str (numpy.std(Ligue1data.Wins))\n",
    "Ligue1_loses= 'Loses -->  ' + 'Mean: '+ str(numpy.mean(Ligue1data.Loses)) + ', Median: '+ str(numpy.median(Ligue1data.Loses)) + ', Standard deviation: ' + str (numpy.std(Ligue1data.Loses))\n",
    "Ligue1_draws= 'Draws -->  ' + 'Mean: '+ str(numpy.mean(Ligue1data.Draws)) + ', Median: '+ str(numpy.median(Ligue1data.Draws)) + ', Standard deviation: ' + str (numpy.std(Ligue1data.Draws))\n",
    "Ligue1_gs= 'Goals scored -->  ' + 'Mean: '+ str(numpy.mean(Ligue1data.Goals_scored)) + ', Median: '+ str(numpy.median(Ligue1data.Goals_scored)) + ', Standard deviation: ' + str (numpy.std(Ligue1data.Goals_scored))\n",
    "Ligue1_ga='Goals against -->  ' + 'Mean: '+ str(numpy.mean(Ligue1data.Goals_against)) + ', Median: '+ str(numpy.median(Ligue1data.Goals_against)) + ', Standard deviation: ' + str (numpy.std(Ligue1data.Goals_against))\n",
    "Ligue1_points= 'Points -->  ' + 'Mean: '+ str(numpy.mean(Ligue1data.Points)) + ', Median: '+ str(numpy.median(Ligue1data.Points)) + ', Standard deviation: ' + str (numpy.std(Ligue1data.Points))\n",
    "\n",
    "Ligue1= League('Ligue 1', Ligue1_wins, Ligue1_loses, Ligue1_draws, Ligue1_gs, Ligue1_ga, Ligue1_points)\n"
   ]
  },
  {
   "cell_type": "markdown",
   "metadata": {},
   "source": [
    "### C. Analyze"
   ]
  },
  {
   "cell_type": "code",
   "execution_count": 10,
   "metadata": {},
   "outputs": [
    {
     "name": "stdout",
     "output_type": "stream",
     "text": [
      "League: EPL\n",
      "Wins -->  Mean: 14.05, Median: 11.5, Standard deviation: 6.888214572732182\n",
      "Loses -->  Mean: 14.05, Median: 16.0, Standard deviation: 5.152426612771889\n",
      "Draws -->  Mean: 9.9, Median: 10.5, Standard deviation: 2.754995462791182\n",
      "Goals scored -->  Mean: 50.9, Median: 44.5, Standard deviation: 20.437465596301315\n",
      "Goals against -->  Mean: 50.9, Median: 55.5, Standard deviation: 12.152777460317456\n",
      "Points -->  Mean: 52.05, Median: 44.0, Standard deviation: 18.685489022233266\n",
      "\n",
      "League: La liga\n",
      "Wins -->  Mean: 14.7, Median: 14.0, Standard deviation: 5.90846849868898\n",
      "Loses -->  Mean: 14.7, Median: 14.5, Standard deviation: 6.356886030125127\n",
      "Draws -->  Mean: 8.6, Median: 9.0, Standard deviation: 2.745906043549196\n",
      "Goals scored -->  Mean: 51.2, Median: 46.5, Standard deviation: 19.169246203228752\n",
      "Goals against -->  Mean: 51.2, Median: 50.5, Standard deviation: 13.44470155860665\n",
      "Points -->  Mean: 52.7, Median: 50.0, Standard deviation: 17.765415840897166\n",
      "\n",
      "League: Bundesliga\n",
      "Wins -->  Mean: 12.38888888888889, Median: 11.5, Standard deviation: 5.001542971800346\n",
      "Loses -->  Mean: 12.38888888888889, Median: 13.0, Standard deviation: 4.070747800382749\n",
      "Draws -->  Mean: 9.222222222222221, Median: 9.0, Standard deviation: 2.7397395568751004\n",
      "Goals scored -->  Mean: 47.5, Median: 43.5, Standard deviation: 15.071127658171067\n",
      "Goals against -->  Mean: 47.5, Median: 47.5, Standard deviation: 8.89600409672168\n",
      "Points -->  Mean: 46.388888888888886, Median: 45.0, Standard deviation: 13.59386662714267\n",
      "\n",
      "League: Serie A\n",
      "Wins -->  Mean: 14.85, Median: 12.5, Standard deviation: 6.567153112270186\n",
      "Loses -->  Mean: 14.85, Median: 16.0, Standard deviation: 7.377499576414762\n",
      "Draws -->  Mean: 8.3, Median: 8.0, Standard deviation: 3.226453160980336\n",
      "Goals scored -->  Mean: 50.85, Median: 51.0, Standard deviation: 17.734923174347276\n",
      "Goals against -->  Mean: 50.85, Median: 50.5, Standard deviation: 15.947648729514958\n",
      "Points -->  Mean: 52.85, Median: 48.5, Standard deviation: 20.030663992988355\n",
      "\n",
      "League: Ligue 1\n",
      "Wins -->  Mean: 14.2, Median: 12.5, Standard deviation: 5.88727441181401\n",
      "Loses -->  Mean: 14.2, Median: 15.0, Standard deviation: 5.784461945591828\n",
      "Draws -->  Mean: 9.6, Median: 9.0, Standard deviation: 2.65329983228432\n",
      "Goals scored -->  Mean: 51.65, Median: 45.5, Standard deviation: 21.041090751194435\n",
      "Goals against -->  Mean: 51.65, Median: 51.0, Standard deviation: 12.07590576313015\n",
      "Points -->  Mean: 52.2, Median: 49.5, Standard deviation: 17.15400827795067\n",
      "\n"
     ]
    }
   ],
   "source": [
    "print(EPL)\n",
    "print(La_liga)\n",
    "print(Bundesliga)\n",
    "print(Serie_A)\n",
    "print(Ligue1)"
   ]
  },
  {
   "cell_type": "markdown",
   "metadata": {},
   "source": [
    "Every league except Bundesliga have 20 teams; they have 18 teams. Leagues can only be compared when they have the same number of teams. \n",
    "\n",
    "The mean number of points in a league is determined by the number of draws. A draw gives one point to each team after a game, whereas winning and loosing reward and take away 3 points respectively. So when there is a draw in the game, two points are added to the league whereas a victory is three points are added to the league. \n",
    "\n",
    "Ligue 1 is the team with the biggest mean of goals and Serie A is the one with the smallest. It could be said that Ligue 1 is the league with the most action and the most entertaining whereas Serie A would be the league with least action and the least entertaining with this stat. \n",
    "\n",
    "Ligue 1 is the team with the smallest standard deviation of points and Serie A is the one with the largest. Therefore, Ligue 1 is the league with the most competition and Serie A is the league with the least competition. \n",
    "\n",
    "Ligue 1 could appear to be the best league to watch because it has the most action and the most competiton but it is generally seen as the least interesting league to watch out of the top five leagues.\n",
    "\n",
    "The standard deviation of goals scored is bigger than the standard deviation of goals against in every league. It means that the difference between teams is largely based on the offensive part of a team rather than the defensive part because teams have bigger differences in goals they score than goals scored against them. \n",
    "\n",
    "Also the mean of the goals scored is equal to the goals scored agianst in every league and this makes sense because the teams in the league play against ecah other so if a team scores one goal another team would be conceding one goal."
   ]
  },
  {
   "cell_type": "markdown",
   "metadata": {},
   "source": [
    "## 2: Team performances\n"
   ]
  },
  {
   "cell_type": "markdown",
   "metadata": {},
   "source": [
    "### A. Regression of goals scored and points\n",
    "I would be testing to see what factors have a greater impact on a team's overall ranking (Points). Goals scored and Goals against, (As a team, would be it better to score one more goal, or to have one less goal scored against you)"
   ]
  },
  {
   "cell_type": "markdown",
   "metadata": {},
   "source": [
    "#### *Single regression"
   ]
  },
  {
   "cell_type": "code",
   "execution_count": 11,
   "metadata": {},
   "outputs": [
    {
     "data": {
      "image/png": "[encoded data removed]",
      "text/plain": [
       "<Figure size 432x288 with 1 Axes>"
      ]
     },
     "metadata": {},
     "output_type": "display_data"
    },
    {
     "name": "stdout",
     "output_type": "stream",
     "text": [
      "Coefficient: \n",
      "[[0.84632285]]\n"
     ]
    }
   ],
   "source": [
    "pyplot.scatter(data.Goals_scored, data.Points)\n",
    "pyplot.xlabel('Goals scored')\n",
    "pyplot.ylabel('Points')\n",
    "pyplot.show()\n",
    "gs_pts=LinearRegression().fit(data [['Goals_scored']], data [['Points']])\n",
    "\n",
    "print('Coefficient: ')\n",
    "print(gs_pts.coef_)"
   ]
  },
  {
   "cell_type": "code",
   "execution_count": 12,
   "metadata": {},
   "outputs": [
    {
     "data": {
      "image/png": "[encoded data removed]",
      "text/plain": [
       "<Figure size 432x288 with 1 Axes>"
      ]
     },
     "metadata": {},
     "output_type": "display_data"
    },
    {
     "name": "stdout",
     "output_type": "stream",
     "text": [
      "Coefficient: \n",
      "[[-1.08823005]]\n"
     ]
    }
   ],
   "source": [
    "pyplot.scatter(data.Goals_against, data. Points)\n",
    "pyplot.xlabel('Goals against')\n",
    "pyplot.ylabel('Points')\n",
    "pyplot.show()\n",
    "ga_pts=LinearRegression().fit(data [['Goals_against']], data [['Points']])\n",
    "\n",
    "print('Coefficient: ')\n",
    "print(ga_pts.coef_)"
   ]
  },
  {
   "cell_type": "markdown",
   "metadata": {},
   "source": [
    "Goals against have a bigger impact than goals scored. An increase of one goal scored increase the number of points by 0.846.\n",
    "An increase of one goal against decreases the number of points by 1.08. This shows that it is better for teams to defend well than attack well."
   ]
  },
  {
   "cell_type": "markdown",
   "metadata": {},
   "source": [
    "#### *Multiple Regression"
   ]
  },
  {
   "cell_type": "code",
   "execution_count": 13,
   "metadata": {},
   "outputs": [
    {
     "name": "stdout",
     "output_type": "stream",
     "text": [
      "[ 0.63080006 -0.57828779]\n"
     ]
    }
   ],
   "source": [
    "predictors= ['Goals_scored', 'Goals_against']\n",
    "multiple_reg= LinearRegression().fit(data[predictors],data['Points'])\n",
    "print(multiple_reg.coef_)"
   ]
  },
  {
   "cell_type": "markdown",
   "metadata": {},
   "source": [
    "Modelling these variables jointly produce coefficients that are more reasonable. The Goals scored variable is still the positive, while the goals against is still negative, indicating that scoring goals leads to a growth in points and conceding goals leads to a decline in points. A noticeable difference is that the both variables have decreased in how steep they are. When calculating the regression with the opposing variables that influence points allow me to account for all the factors that the Points are dependent on and how much influence that both variables have on the Points. As oppose to an individual regression that does not account for the influence of the other variable. This is why there is a noticeable difference between the individual regression and the multiple regression.\n"
   ]
  },
  {
   "cell_type": "code",
   "execution_count": 14,
   "metadata": {},
   "outputs": [
    {
     "data": {
      "image/png": "[encoded data removed]",
      "text/plain": [
       "<Figure size 432x288 with 1 Axes>"
      ]
     },
     "metadata": {},
     "output_type": "display_data"
    }
   ],
   "source": [
    "pyplot.bar(data.Ranking, data.Goals_scored)\n",
    "pyplot.xlabel('Ranking')\n",
    "pyplot.ylabel('Goals Scored')\n",
    "pyplot.show()\n"
   ]
  },
  {
   "cell_type": "code",
   "execution_count": 15,
   "metadata": {},
   "outputs": [
    {
     "data": {
      "image/png": "[encoded data removed]",
      "text/plain": [
       "<Figure size 432x288 with 1 Axes>"
      ]
     },
     "metadata": {},
     "output_type": "display_data"
    }
   ],
   "source": [
    "pyplot.bar(data.Ranking, data.Goals_against)\n",
    "pyplot.xlabel('Ranking')\n",
    "pyplot.ylabel('Goals Against')\n",
    "pyplot.show()\n"
   ]
  },
  {
   "cell_type": "markdown",
   "metadata": {},
   "source": [
    "Interestingly, although the previous data shows that a team benefits more from defending rather scoring goals, we see from the skewness in these bar charts that teams that are ranked higher tend to score more goals and concede less goals. Even though scoring might not necesarily have the largest impact on their ranking, higher ranked teams still score more."
   ]
  },
  {
   "cell_type": "markdown",
   "metadata": {},
   "source": [
    "### B. Playing home vs. Playing away \n",
    "It is often said that a team is likely to perform well when they play in their home stadium rather than when they play in their opponent's stadium. This is because a team would usually have more fans in their home stadium for support and would have been used to playing in that stadium. I would test to see if this is statistically correct."
   ]
  },
  {
   "cell_type": "code",
   "execution_count": 16,
   "metadata": {},
   "outputs": [],
   "source": [
    "data_home = pandas.read_csv('home.csv')"
   ]
  },
  {
   "cell_type": "code",
   "execution_count": 17,
   "metadata": {},
   "outputs": [],
   "source": [
    "data_away = pandas.read_csv('away.csv')"
   ]
  },
  {
   "cell_type": "code",
   "execution_count": 18,
   "metadata": {},
   "outputs": [],
   "source": [
    "home_win_probability = []\n",
    "for i in range(98):\n",
    "    probability = data_home['Wins'][i] / data_home['Games_played'][i]\n",
    "    home_win_probability.append(probability)\n",
    "    "
   ]
  },
  {
   "cell_type": "code",
   "execution_count": 19,
   "metadata": {},
   "outputs": [
    {
     "data": {
      "text/plain": [
       "0.45346559676502185"
      ]
     },
     "execution_count": 19,
     "metadata": {},
     "output_type": "execute_result"
    }
   ],
   "source": [
    "numpy.mean(home_win_probability)"
   ]
  },
  {
   "cell_type": "code",
   "execution_count": 20,
   "metadata": {},
   "outputs": [],
   "source": [
    "away_win_probability = []\n",
    "for i in range(98):\n",
    "    probability = data_away['Wins'][i] / data_away['Games_played'][i]\n",
    "    away_win_probability.append(probability)"
   ]
  },
  {
   "cell_type": "code",
   "execution_count": 21,
   "metadata": {},
   "outputs": [
    {
     "data": {
      "text/plain": [
       "0.30122575345927843"
      ]
     },
     "execution_count": 21,
     "metadata": {},
     "output_type": "execute_result"
    }
   ],
   "source": [
    "numpy.mean(away_win_probability)"
   ]
  },
  {
   "cell_type": "markdown",
   "metadata": {},
   "source": [
    "What I did was that I looked at two different datasets that contianed similar information for the same teams in the same year. However these two data sets were exclusive to only home and away games from the original dataset. I then compared the average number of wins for the teams for both data sets. \n",
    "\n",
    "My caculations show that the probalility of winning a game is higher when a team is playing at their home staduim, meaning that the common belief people have about teams having an advantage when they are playing in their home staduim is true. "
   ]
  },
  {
   "cell_type": "markdown",
   "metadata": {},
   "source": [
    "## 3: Actual vs Expected Team performances\n",
    "In the dataset, every team has an entry for their expected number of goals scored, expected number of goals against(conceded), and expected number of points. These values are different than their actual counterparts and are predicted before each game."
   ]
  },
  {
   "cell_type": "markdown",
   "metadata": {},
   "source": [
    "### A. Correlation between expected and actual values"
   ]
  },
  {
   "cell_type": "code",
   "execution_count": 22,
   "metadata": {},
   "outputs": [],
   "source": [
    "expected_points=[]\n",
    "for i in data.Expected_points:\n",
    "    string = str(i)\n",
    "    value=re.search(\"(\\d+.\\d+)\", i)\n",
    "    expected_points.append(float(value.group(0)))\n",
    "    \n",
    "    \n",
    "expected_goals_scored=[]\n",
    "for i in data.Expected_goals_scored:\n",
    "    string = str(i)\n",
    "    value=re.search(\"(\\d+.\\d+)\", i)\n",
    "    expected_goals_scored.append(float(value.group(0)))\n",
    "    \n",
    "    \n",
    "expected_goals_against=[]\n",
    "for i in data.Expected_goals_against:\n",
    "    string = str(i)\n",
    "    value=re.search(\"(\\d+.\\d+)\", i)\n",
    "    expected_goals_against.append(float(value.group(0)))\n",
    "            \n",
    "        \n",
    "    "
   ]
  },
  {
   "cell_type": "markdown",
   "metadata": {},
   "source": [
    "The numbers in the 'expected' columns of the dataset were in an inconvenient format. It was formatted ['predicted value',   '+ or -',   'the difference from the actual value']. Because I couldn't work with this format, I used regular expressions and capturing groups to capture only the expected values and place them in lists. "
   ]
  },
  {
   "cell_type": "code",
   "execution_count": 23,
   "metadata": {},
   "outputs": [
    {
     "name": "stdout",
     "output_type": "stream",
     "text": [
      "Actual goals scored vs. Expected goals scored correlation coefficient: \n",
      "0.9119851917232975\n",
      "\n",
      "Actual goals scored against vs. Expected goals scored against correlation coefficient: \n",
      "0.8740837815691695\n",
      "\n",
      "Actual points earned vs. Expected points earned correlation coefficient: \n",
      "0.9075045049085185\n",
      "\n"
     ]
    }
   ],
   "source": [
    "# to see the correlation between expected goals and actual goals scored\n",
    "\n",
    "correlation1 = numpy.corrcoef(data.Goals_scored, expected_goals_scored)[0,1]\n",
    "print(\"Actual goals scored vs. Expected goals scored correlation coefficient: \")\n",
    "print(correlation1)\n",
    "print(\"\")\n",
    "correlation2 = numpy.corrcoef(data.Goals_against, expected_goals_against)[0,1]\n",
    "print(\"Actual goals scored against vs. Expected goals scored against correlation coefficient: \")\n",
    "print(correlation2)\n",
    "print(\"\")\n",
    "correlation3 = numpy.corrcoef(data.Points, expected_points)[0,1]\n",
    "print(\"Actual points earned vs. Expected points earned correlation coefficient: \")\n",
    "print(correlation3)\n",
    "print(\"\")\n"
   ]
  },
  {
   "cell_type": "markdown",
   "metadata": {},
   "source": [
    "After looking at correlation coeficients between the expected and actual values, we come to see that for all categories (goals scored, goals against, and points) the expected values are able to show the real peformance of each team. As the score is not always a representative of the performance of the teams in a soccer match. With the correlation, we see that the teams having the most chances still tend to score the most goals, and the teams that defend the best still tend to concede less goals. Therefore, the teams with the most expected points still have the most points."
   ]
  },
  {
   "cell_type": "markdown",
   "metadata": {},
   "source": [
    "### B. Predicting goals vs Scoring goals"
   ]
  },
  {
   "cell_type": "code",
   "execution_count": 24,
   "metadata": {},
   "outputs": [],
   "source": [
    "points = []\n",
    "for i in data.Points:\n",
    "    points.append(i)"
   ]
  },
  {
   "cell_type": "code",
   "execution_count": 25,
   "metadata": {},
   "outputs": [
    {
     "data": {
      "image/png": "[encoded data removed]",
      "text/plain": [
       "<Figure size 432x288 with 1 Axes>"
      ]
     },
     "metadata": {},
     "output_type": "display_data"
    },
    {
     "name": "stdout",
     "output_type": "stream",
     "text": [
      "Coeffiecient: \n",
      "[1.03958829]\n"
     ]
    }
   ],
   "source": [
    "expected_goals=[]\n",
    "for i in data.Expected_goals_scored:\n",
    "    string = str(i)\n",
    "    value=re.search(\"(\\d+.\\d+)\", i)\n",
    "    expected_goals.append([float(value.group(0))])\n",
    "    \n",
    "\n",
    "pyplot.scatter(expected_goals_scored, data.Points)\n",
    "pyplot.xlabel('Expected Goals Scored')\n",
    "pyplot.ylabel('Actual Points')\n",
    "pyplot.show()\n",
    "exg_pts=LinearRegression().fit( expected_goals, data[[\"Points\"]])\n",
    "print('Coeffiecient: ')\n",
    "print(*exg_pts.coef_)\n",
    "\n",
    "    \n",
    "    "
   ]
  },
  {
   "cell_type": "code",
   "execution_count": 26,
   "metadata": {},
   "outputs": [
    {
     "data": {
      "image/png": "[encoded data removed]",
      "text/plain": [
       "<Figure size 432x288 with 1 Axes>"
      ]
     },
     "metadata": {},
     "output_type": "display_data"
    },
    {
     "name": "stdout",
     "output_type": "stream",
     "text": [
      "Coeffiecient: \n",
      "[-1.2905499]\n"
     ]
    }
   ],
   "source": [
    "expected_goals_against=[]\n",
    "for i in data.Expected_goals_against:\n",
    "    string = str(i)\n",
    "    value=re.search(\"(\\d+.\\d+)\", i)\n",
    "    expected_goals_against.append([float(value.group(0))])\n",
    "    \n",
    "\n",
    "pyplot.scatter(expected_goals_against, data.Points)\n",
    "pyplot.xlabel('Expected Goals Conceded')\n",
    "pyplot.ylabel('Actual Points')\n",
    "pyplot.show()\n",
    "exg_pts=LinearRegression().fit( expected_goals_against, data[[\"Points\"]])\n",
    "print('Coeffiecient: ')\n",
    "print(*exg_pts.coef_)\n",
    "\n",
    "    \n",
    "    "
   ]
  },
  {
   "cell_type": "markdown",
   "metadata": {},
   "source": [
    "Interestingly, the data shows that predicting Goals would have a greater impact on gaining actual points in the league rather than actually scoring goals. In problem 2, I calculated that the regression coefficient between actually scoring goals and gaining actual points is 0.8463228. But when it come to predicting goals, the coefficient with the actual points is 1.03958829. Meaning that the rate at which Points increase is higher with expected goals than with actual goals. And this is also similar with the expected goals against. "
   ]
  },
  {
   "cell_type": "markdown",
   "metadata": {},
   "source": [
    "### C. Can we rely on expected values to predict actual values?"
   ]
  },
  {
   "cell_type": "code",
   "execution_count": 27,
   "metadata": {},
   "outputs": [],
   "source": [
    "# first start by creating a method\n",
    "\n",
    "def mse(y, y_pred):\n",
    "    mse = 0\n",
    "    for i in range(len(y)):\n",
    "        mse += (y[i] - y_pred[i])**2\n",
    "    mse = mse / len(y)\n",
    "    return mse"
   ]
  },
  {
   "cell_type": "code",
   "execution_count": 28,
   "metadata": {},
   "outputs": [
    {
     "data": {
      "image/png": "[encoded data removed]",
      "text/plain": [
       "<Figure size 432x288 with 1 Axes>"
      ]
     },
     "metadata": {},
     "output_type": "display_data"
    },
    {
     "name": "stdout",
     "output_type": "stream",
     "text": [
      "Goals Scored Mean Squared Error: 71.18127448979592\n"
     ]
    }
   ],
   "source": [
    "pyplot.scatter(data.Goals_scored, expected_goals_scored)\n",
    "pyplot.show()\n",
    "print('Goals Scored Mean Squared Error:', mse(data.Goals_scored, expected_goals_scored)) "
   ]
  },
  {
   "cell_type": "code",
   "execution_count": 29,
   "metadata": {},
   "outputs": [
    {
     "data": {
      "image/png": "[encoded data removed]",
      "text/plain": [
       "<Figure size 432x288 with 1 Axes>"
      ]
     },
     "metadata": {},
     "output_type": "display_data"
    },
    {
     "name": "stdout",
     "output_type": "stream",
     "text": [
      "Goals Against Mean Squared Error: [41.78134592]\n"
     ]
    }
   ],
   "source": [
    "pyplot.scatter(data.Goals_against, expected_goals_against)\n",
    "pyplot.show()\n",
    "print('Goals Against Mean Squared Error:', mse(data.Goals_against, expected_goals_against))"
   ]
  },
  {
   "cell_type": "code",
   "execution_count": 30,
   "metadata": {},
   "outputs": [
    {
     "data": {
      "image/png": "[encoded data removed]",
      "text/plain": [
       "<Figure size 432x288 with 1 Axes>"
      ]
     },
     "metadata": {},
     "output_type": "display_data"
    },
    {
     "name": "stdout",
     "output_type": "stream",
     "text": [
      "Points Mean Squared Error: 62.204291836734704\n"
     ]
    }
   ],
   "source": [
    "pyplot.scatter(data.Points, expected_points)\n",
    "pyplot.show()\n",
    "print('Points Mean Squared Error:', mse(data.Points, expected_points)) "
   ]
  }
 ],
 "metadata": {
  "kernelspec": {
   "display_name": "Python 3",
   "language": "python",
   "name": "python3"
  },
  "language_info": {
   "codemirror_mode": {
    "name": "ipython",
    "version": 3
   },
   "file_extension": ".py",
   "mimetype": "text/x-python",
   "name": "python",
   "nbconvert_exporter": "python",
   "pygments_lexer": "ipython3",
   "version": "3.6.5"
  }
 },
 "nbformat": 4,
 "nbformat_minor": 2
}
